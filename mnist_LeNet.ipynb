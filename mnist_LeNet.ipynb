{
 "cells": [
  {
   "cell_type": "code",
   "execution_count": 39,
   "metadata": {},
   "outputs": [],
   "source": [
    "import keras\n",
    "import numpy as np\n",
    "import pandas as pd\n",
    "import sklearn\n",
    "\n",
    "from tensorflow.keras.datasets import mnist"
   ]
  },
  {
   "cell_type": "code",
   "execution_count": 40,
   "metadata": {},
   "outputs": [],
   "source": [
    "from tensorflow.keras.models import Sequential\n",
    "from tensorflow.keras.layers import Dense, Activation, Dropout, Conv2D, MaxPool2D, Flatten\n",
    "from keras.utils import np_utils\n",
    "from tensorflow.keras.optimizers import SGD\n",
    "\n",
    "\n",
    "np.random.seed(1671)"
   ]
  },
  {
   "cell_type": "code",
   "execution_count": 47,
   "metadata": {},
   "outputs": [
    {
     "data": {
      "text/plain": [
       "(60000, 28, 28, 1)"
      ]
     },
     "execution_count": 47,
     "metadata": {},
     "output_type": "execute_result"
    }
   ],
   "source": [
    "(X_train, y_train), (X_test, y_test) = mnist.load_data()\n",
    "X_train = X_train.astype('float32')\n",
    "X_test = X_test.astype('float32')\n",
    "X_train /= 255.0\n",
    "X_test /= 255.0\n",
    "\n",
    "\n",
    "y_train = np_utils.to_categorical(y_train, 10)\n",
    "y_test = np_utils.to_categorical(y_test, 10)\n",
    "\n",
    "X_test = X_test[:, :, :, np.newaxis]\n",
    "X_train = X_train[:, :, :, np.newaxis]\n",
    "\n",
    "X_train.shape"
   ]
  },
  {
   "cell_type": "code",
   "execution_count": 48,
   "metadata": {},
   "outputs": [],
   "source": [
    "# model.add(Conv2D(32, (3, 3), input_shape=(256, 256, 3)))\n",
    "# model.add(Conv2D(32, kernel_size=3, input_shape=(256, 256, 3)))\n",
    "\n",
    "class LeNet:\n",
    "    @staticmethod\n",
    "    def build(input_shape, classes):\n",
    "        model = model = Sequential()\n",
    "        \n",
    "        model.add(Conv2D(20, kernel_size=5, padding=\"same\", input_shape = input_shape))\n",
    "        model.add(Activation(\"relu\"))\n",
    "        model.add(MaxPool2D(pool_size = (2, 2), strides = (2, 2)))\n",
    "        \n",
    "        model.add(Conv2D(50, kernel_size=5, padding=\"same\", input_shape = input_shape))\n",
    "        model.add(Activation(\"relu\"))\n",
    "        model.add(MaxPool2D(pool_size = (2, 2), strides = (2, 2)))\n",
    "        \n",
    "        model.add(Flatten())\n",
    "        model.add(Dense(500))\n",
    "        model.add(Activation(\"relu\"))\n",
    "        \n",
    "        model.add(Dense(classes))\n",
    "        model.add(Activation(\"softmax\"))\n",
    "        \n",
    "        return model"
   ]
  },
  {
   "cell_type": "code",
   "execution_count": null,
   "metadata": {},
   "outputs": [],
   "source": []
  },
  {
   "cell_type": "code",
   "execution_count": 51,
   "metadata": {},
   "outputs": [
    {
     "name": "stdout",
     "output_type": "stream",
     "text": [
      "Model: \"sequential_14\"\n",
      "_________________________________________________________________\n",
      "Layer (type)                 Output Shape              Param #   \n",
      "=================================================================\n",
      "conv2d_20 (Conv2D)           (None, 28, 28, 20)        520       \n",
      "_________________________________________________________________\n",
      "activation_29 (Activation)   (None, 28, 28, 20)        0         \n",
      "_________________________________________________________________\n",
      "max_pooling2d_15 (MaxPooling (None, 14, 14, 20)        0         \n",
      "_________________________________________________________________\n",
      "conv2d_21 (Conv2D)           (None, 14, 14, 50)        25050     \n",
      "_________________________________________________________________\n",
      "activation_30 (Activation)   (None, 14, 14, 50)        0         \n",
      "_________________________________________________________________\n",
      "max_pooling2d_16 (MaxPooling (None, 7, 7, 50)          0         \n",
      "_________________________________________________________________\n",
      "flatten_6 (Flatten)          (None, 2450)              0         \n",
      "_________________________________________________________________\n",
      "dense_12 (Dense)             (None, 500)               1225500   \n",
      "_________________________________________________________________\n",
      "activation_31 (Activation)   (None, 500)               0         \n",
      "_________________________________________________________________\n",
      "dense_13 (Dense)             (None, 10)                5010      \n",
      "_________________________________________________________________\n",
      "activation_32 (Activation)   (None, 10)                0         \n",
      "=================================================================\n",
      "Total params: 1,256,080\n",
      "Trainable params: 1,256,080\n",
      "Non-trainable params: 0\n",
      "_________________________________________________________________\n"
     ]
    }
   ],
   "source": [
    "N_CLASSES = 10\n",
    "INPUT_SHAPE = (28, 28, 1)\n",
    "Optimizer = SGD()\n",
    "Batch_size = 128\n",
    "Epochs = 5\n",
    "Validation_split = 0.2\n",
    "\n",
    "model = LeNet.build(INPUT_SHAPE, N_CLASSES)\n",
    "model.summary()"
   ]
  },
  {
   "cell_type": "code",
   "execution_count": 52,
   "metadata": {},
   "outputs": [
    {
     "name": "stdout",
     "output_type": "stream",
     "text": [
      "WARNING:tensorflow:From /Users/ba/anaconda3/lib/python3.7/site-packages/tensorflow/python/ops/math_grad.py:1250: add_dispatch_support.<locals>.wrapper (from tensorflow.python.ops.array_ops) is deprecated and will be removed in a future version.\n",
      "Instructions for updating:\n",
      "Use tf.where in 2.0, which has the same broadcast rule as np.where\n",
      "Train on 48000 samples, validate on 12000 samples\n",
      "Epoch 1/5\n",
      "48000/48000 [==============================] - 45s 942us/sample - loss: 1.1191 - accuracy: 0.7031 - val_loss: 0.3513 - val_accuracy: 0.8967\n",
      "Epoch 2/5\n",
      "48000/48000 [==============================] - 45s 945us/sample - loss: 0.3000 - accuracy: 0.9111 - val_loss: 0.2265 - val_accuracy: 0.9330\n",
      "Epoch 3/5\n",
      "48000/48000 [==============================] - 48s 1ms/sample - loss: 0.2162 - accuracy: 0.9349 - val_loss: 0.1677 - val_accuracy: 0.9519\n",
      "Epoch 4/5\n",
      "48000/48000 [==============================] - 50s 1ms/sample - loss: 0.1709 - accuracy: 0.9490 - val_loss: 0.1495 - val_accuracy: 0.9560\n",
      "Epoch 5/5\n",
      "48000/48000 [==============================] - 49s 1ms/sample - loss: 0.1425 - accuracy: 0.9572 - val_loss: 0.1208 - val_accuracy: 0.9657\n",
      "10000/10000 [==============================] - 4s 422us/sample - loss: 0.1185 - accuracy: 0.9647\n"
     ]
    },
    {
     "data": {
      "text/plain": [
       "[0.11848438254520297, 0.9647]"
      ]
     },
     "execution_count": 52,
     "metadata": {},
     "output_type": "execute_result"
    }
   ],
   "source": [
    "model.compile(loss = 'categorical_crossentropy', optimizer = Optimizer, metrics = ['accuracy'])\n",
    "history = model.fit(X_train, y_train, batch_size=Batch_size, epochs=Epochs, validation_split=Validation_split)\n",
    "score = model.evaluate(X_test, y_test, verbose=1)\n",
    "score"
   ]
  },
  {
   "cell_type": "code",
   "execution_count": null,
   "metadata": {},
   "outputs": [],
   "source": []
  }
 ],
 "metadata": {
  "kernelspec": {
   "display_name": "Python 3",
   "language": "python",
   "name": "python3"
  },
  "language_info": {
   "codemirror_mode": {
    "name": "ipython",
    "version": 3
   },
   "file_extension": ".py",
   "mimetype": "text/x-python",
   "name": "python",
   "nbconvert_exporter": "python",
   "pygments_lexer": "ipython3",
   "version": "3.7.1"
  }
 },
 "nbformat": 4,
 "nbformat_minor": 2
}
